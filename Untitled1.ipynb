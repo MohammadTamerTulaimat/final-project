{
 "cells": [
  {
   "cell_type": "code",
   "execution_count": 1,
   "metadata": {
    "collapsed": false
   },
   "outputs": [
    {
     "data": {
      "text/plain": [
       "<function scipy.stats.stats.ttest_ind>"
      ]
     },
     "execution_count": 1,
     "metadata": {},
     "output_type": "execute_result"
    }
   ],
   "source": [
    "# Mohammad Tamer Tulaimat \n",
    "# 213201785\n",
    "\n",
    "from __future__ import print_function, division\n",
    "\n",
    "%matplotlib inline\n",
    "\n",
    "import pandas as pd\n",
    "import numpy as np\n",
    "\n",
    "import random\n",
    "\n",
    "import thinkstats2\n",
    "import thinkplot\n",
    "import nsfg\n",
    "\n",
    "from scipy import stats\n",
    "stats.ttest_ind"
   ]
  },
  {
   "cell_type": "code",
   "execution_count": 2,
   "metadata": {
    "collapsed": false
   },
   "outputs": [
    {
     "name": "stdout",
     "output_type": "stream",
     "text": [
      "0     54\n",
      "1     52\n",
      "2     54\n",
      "3     51\n",
      "4     56\n",
      "5     52\n",
      "6     60\n",
      "7     50\n",
      "8     53\n",
      "9     53\n",
      "10    52\n",
      "11    51\n",
      "12    56\n",
      "13    52\n",
      "14    50\n",
      "15    53\n",
      "16    57\n",
      "17    52\n",
      "18    57\n",
      "19    53\n",
      "20    50\n",
      "21    53\n",
      "22    57\n",
      "23    53\n",
      "24    56\n",
      "25    53\n",
      "26    56\n",
      "27    53\n",
      "28    55\n",
      "29    53\n",
      "30    56\n",
      "31    51\n",
      "32    51\n",
      "33    52\n",
      "34    60\n",
      "35    49\n",
      "36    55\n",
      "37    52\n",
      "38    48\n",
      "39    54\n",
      "40    56\n",
      "41    54\n",
      "42    57\n",
      "43    52\n",
      "44    59\n",
      "45    52\n",
      "46    50\n",
      "47    52\n",
      "48    55\n",
      "49    50\n",
      "50    58\n",
      "51    48\n",
      "Name: G, dtype: int64\n",
      "0     25\n",
      "1     25\n",
      "2     31\n",
      "3     28\n",
      "4     30\n",
      "5     29\n",
      "6     31\n",
      "7     20\n",
      "8     31\n",
      "9     23\n",
      "10    15\n",
      "11    23\n",
      "12    35\n",
      "13    31\n",
      "14    26\n",
      "15    26\n",
      "16    31\n",
      "17    29\n",
      "18    28\n",
      "19    33\n",
      "20    20\n",
      "21    30\n",
      "22    36\n",
      "23    27\n",
      "24    17\n",
      "25    24\n",
      "26    31\n",
      "27    31\n",
      "28    30\n",
      "29    30\n",
      "30    34\n",
      "31    25\n",
      "32    17\n",
      "33    24\n",
      "34    37\n",
      "35    27\n",
      "36    34\n",
      "37    25\n",
      "38    25\n",
      "39    21\n",
      "40    23\n",
      "41    18\n",
      "42    21\n",
      "43    23\n",
      "44    27\n",
      "45    29\n",
      "46    30\n",
      "47    29\n",
      "48    33\n",
      "49    24\n",
      "50    16\n",
      "51    21\n",
      "Name: W, dtype: int64\n"
     ]
    }
   ],
   "source": [
    "# Reading the file\n",
    "data = pd.read_csv('TeamsHalf.csv')\n",
    "G = data.G\n",
    "W = data.W\n",
    "print (G)\n",
    "print (W)"
   ]
  },
  {
   "cell_type": "code",
   "execution_count": 3,
   "metadata": {
    "collapsed": false
   },
   "outputs": [
    {
     "data": {
      "text/plain": [
       "array([54, 52, 54, 51, 56, 52, 60, 50, 53, 53, 52, 51, 56, 52, 50, 53, 57,\n",
       "       52, 57, 53, 50, 53, 57, 53, 56, 53, 56, 53, 55, 53, 56, 51, 51, 52,\n",
       "       60, 49, 55, 52, 48, 54, 56, 54, 57, 52, 59, 52, 50, 52, 55, 50, 58,\n",
       "       48], dtype=int64)"
      ]
     },
     "execution_count": 3,
     "metadata": {},
     "output_type": "execute_result"
    }
   ],
   "source": [
    "(data.G.values)"
   ]
  },
  {
   "cell_type": "code",
   "execution_count": 4,
   "metadata": {
    "collapsed": false
   },
   "outputs": [
    {
     "data": {
      "text/plain": [
       "array([25, 25, 31, 28, 30, 29, 31, 20, 31, 23, 15, 23, 35, 31, 26, 26, 31,\n",
       "       29, 28, 33, 20, 30, 36, 27, 17, 24, 31, 31, 30, 30, 34, 25, 17, 24,\n",
       "       37, 27, 34, 25, 25, 21, 23, 18, 21, 23, 27, 29, 30, 29, 33, 24, 16,\n",
       "       21], dtype=int64)"
      ]
     },
     "execution_count": 4,
     "metadata": {},
     "output_type": "execute_result"
    }
   ],
   "source": [
    "(data.W.values)"
   ]
  },
  {
   "cell_type": "code",
   "execution_count": 6,
   "metadata": {
    "collapsed": false
   },
   "outputs": [
    {
     "name": "stdout",
     "output_type": "stream",
     "text": [
      "53.4230769231\n",
      "2.87208439609\n",
      "26.7115384615\n",
      "5.33334511688\n"
     ]
    }
   ],
   "source": [
    "mean_G = (G.mean())\n",
    "std_G = (G.std())\n",
    "print (mean_G)\n",
    "print (std_G)\n",
    "\n",
    "mean_W = (W.mean())\n",
    "std_W = (W.std())\n",
    "\n",
    "print (mean_W)\n",
    "print (std_W)\n",
    "\n"
   ]
  },
  {
   "cell_type": "code",
   "execution_count": 7,
   "metadata": {
    "collapsed": false
   },
   "outputs": [
    {
     "data": {
      "image/png": "[encoded data removed]",
      "text/plain": [
       "<matplotlib.figure.Figure at 0xb716f98>"
      ]
     },
     "metadata": {},
     "output_type": "display_data"
    }
   ],
   "source": [
    "# Histogram\n",
    "hist_first = thinkstats2.Hist((W), label= 'Wins')\n",
    "hist_second = thinkstats2.Hist((G), label= 'Games')\n",
    "width= 0.45\n",
    "thinkplot.preplot(2,cols=2)\n",
    "thinkplot.Hist(hist_first, align='right',width=width)\n",
    "thinkplot.Hist(hist_second, align='left',width=width)\n",
    "thinkplot.config(xlabel='TeamsHalf',ylabel='probability')"
   ]
  },
  {
   "cell_type": "code",
   "execution_count": 8,
   "metadata": {
    "collapsed": false
   },
   "outputs": [
    {
     "data": {
      "image/png": "[encoded data removed]",
      "text/plain": [
       "<matplotlib.figure.Figure at 0xb4b8f60>"
      ]
     },
     "metadata": {},
     "output_type": "display_data"
    }
   ],
   "source": [
    "# for PMF part:\n",
    "one_pmf = thinkstats2.Pmf((W), label= 'Wins')\n",
    "two_pmf = thinkstats2.Pmf((G), label= 'Games')\n",
    "width= 0.45\n",
    "thinkplot.preplot(2,cols=2)\n",
    "thinkplot.Hist(one_pmf, align='right',width=width)\n",
    "thinkplot.Hist(two_pmf, align='left',width=width)\n",
    "thinkplot.config(xlabel='TeamsHalf',ylabel='PMF')"
   ]
  },
  {
   "cell_type": "code",
   "execution_count": 9,
   "metadata": {
    "collapsed": true
   },
   "outputs": [],
   "source": [
    "sample1 = data.W.values\n",
    "sample2 = data.G.values"
   ]
  },
  {
   "cell_type": "code",
   "execution_count": 10,
   "metadata": {
    "collapsed": false
   },
   "outputs": [
    {
     "data": {
      "image/png": "[encoded data removed]",
      "text/plain": [
       "<matplotlib.figure.Figure at 0xb716fd0>"
      ]
     },
     "metadata": {},
     "output_type": "display_data"
    }
   ],
   "source": [
    "# for the CDF:\n",
    "cdf1 =thinkstats2.Cdf(sample1, label= 'Wins')\n",
    "thinkplot.Cdf(cdf1)\n",
    "thinkplot.config(xlabel='TeamsHalf',ylabel='CDF')"
   ]
  },
  {
   "cell_type": "code",
   "execution_count": 11,
   "metadata": {
    "collapsed": false
   },
   "outputs": [
    {
     "data": {
      "image/png": "[encoded data removed]",
      "text/plain": [
       "<matplotlib.figure.Figure at 0xbe8e0f0>"
      ]
     },
     "metadata": {},
     "output_type": "display_data"
    }
   ],
   "source": [
    "cdf2 =thinkstats2.Cdf(sample2, label= 'Games')\n",
    "thinkplot.Cdf(cdf2)\n",
    "thinkplot.config(xlabel='TeamsHalf',ylabel='CDF')"
   ]
  },
  {
   "cell_type": "code",
   "execution_count": 12,
   "metadata": {
    "collapsed": false
   },
   "outputs": [
    {
     "data": {
      "image/png": "[encoded data removed]",
      "text/plain": [
       "<matplotlib.figure.Figure at 0xbe30668>"
      ]
     },
     "metadata": {},
     "output_type": "display_data"
    }
   ],
   "source": [
    "thinkplot.Cdf(cdf1, complement=True, label='Wins')\n",
    "thinkplot.config(xlabel='TeamsHalf',ylabel='CCDF',yscale='log', loc='upper right')"
   ]
  },
  {
   "cell_type": "code",
   "execution_count": 13,
   "metadata": {
    "collapsed": false
   },
   "outputs": [
    {
     "data": {
      "image/png": "[encoded data removed]",
      "text/plain": [
       "<matplotlib.figure.Figure at 0xbff1f98>"
      ]
     },
     "metadata": {},
     "output_type": "display_data"
    }
   ],
   "source": [
    "thinkplot.Cdf(cdf2, complement=True, label='Games')\n",
    "thinkplot.config(xlabel='TeamsHalf',ylabel='CCDF',yscale='log', loc='upper right')"
   ]
  },
  {
   "cell_type": "code",
   "execution_count": 18,
   "metadata": {
    "collapsed": false
   },
   "outputs": [
    {
     "data": {
      "image/png": "[encoded data removed]",
      "text/plain": [
       "<matplotlib.figure.Figure at 0xbe9da58>"
      ]
     },
     "metadata": {},
     "output_type": "display_data"
    }
   ],
   "source": [
    "for lam in []:\n",
    "    xs, ps= thinkstats2.RenderExpoCdf(lam,0,3.0,50)\n",
    "    label1 = r'$\\lambda=%g$' % lam\n",
    "    thinkplot.Plot(xs , ps, label1 = label1)\n",
    "\n",
    "thinkplot.Config(title='EXP_CDF',xlabel='x',ylabel='CDF',loc='lower right')\n"
   ]
  },
  {
   "cell_type": "code",
   "execution_count": 30,
   "metadata": {
    "collapsed": true
   },
   "outputs": [],
   "source": [
    "def Cov(xs,ys,meanx=None,meany=None):\n",
    "    xs= np.asarray(xs)\n",
    "    ys= np.asarray(ys)\n",
    "    \n",
    "    if meanx is None:\n",
    "        meanx= np.mean(xs)\n",
    "    if meany is None:\n",
    "        meany= np.mean(ys)\n",
    "        \n",
    "    Cov= np.dot(xs-meanx,ys-meany)/len(xs)\n",
    "    return Cov"
   ]
  },
  {
   "cell_type": "code",
   "execution_count": 31,
   "metadata": {
    "collapsed": false
   },
   "outputs": [
    {
     "data": {
      "image/png": "[encoded data removed]",
      "text/plain": [
       "<matplotlib.figure.Figure at 0xd153940>"
      ]
     },
     "metadata": {},
     "output_type": "display_data"
    }
   ],
   "source": [
    "def jitter(values, jitter=0.5):\n",
    "    n= len(values)\n",
    "\n",
    "    return np.random.normal(0,jitter,n)+ values\n",
    "Wins = jitter(W, 1.4)\n",
    "Games = jitter(G,0.5)\n",
    "thinkplot.Scatter(Wins, Games, alpha= 0.1,s=10,color='blue')\n",
    "thinkplot.Config(xlabel='Wins',ylabel='Games',axis=[0,210,20,200], legend=False)\n"
   ]
  },
  {
   "cell_type": "code",
   "execution_count": 32,
   "metadata": {
    "collapsed": false
   },
   "outputs": [
    {
     "data": {
      "text/plain": [
       "4.8143491124260356"
      ]
     },
     "execution_count": 32,
     "metadata": {},
     "output_type": "execute_result"
    }
   ],
   "source": [
    "Cov(sample1,sample2)"
   ]
  },
  {
   "cell_type": "code",
   "execution_count": 40,
   "metadata": {
    "collapsed": true
   },
   "outputs": [],
   "source": [
    "def Corr(xs,ys):\n",
    "    xs= np.asarray(xs)\n",
    "    ys= np.asarray(ys)\n",
    "    \n",
    "    meanx, varx= thinkstats2.MeanVar(xs)\n",
    "    meany, vary= thinkstats2.MeanVar(ys)\n",
    "    \n",
    "    corr= Cov(xs,ys,meanx,meany) / np.sqrt(varx*vary)\n",
    "    return corr"
   ]
  },
  {
   "cell_type": "code",
   "execution_count": 41,
   "metadata": {
    "collapsed": false
   },
   "outputs": [
    {
     "data": {
      "text/plain": [
       "0.32046002520876793"
      ]
     },
     "execution_count": 41,
     "metadata": {},
     "output_type": "execute_result"
    }
   ],
   "source": [
    "Corr(sample1,sample2)"
   ]
  },
  {
   "cell_type": "code",
   "execution_count": 42,
   "metadata": {
    "collapsed": false
   },
   "outputs": [
    {
     "data": {
      "text/plain": [
       "array([[ 1.        ,  0.32046003],\n",
       "       [ 0.32046003,  1.        ]])"
      ]
     },
     "execution_count": 42,
     "metadata": {},
     "output_type": "execute_result"
    }
   ],
   "source": [
    "np.corrcoef(sample1, sample2)"
   ]
  },
  {
   "cell_type": "code",
   "execution_count": 43,
   "metadata": {
    "collapsed": true
   },
   "outputs": [],
   "source": [
    "def SpearmanCorr(xs,ys):\n",
    "    xs= pd.Series(xs)\n",
    "    ys= pd.Series(ys)\n",
    "    return xs.corr(ys, method='spearman')"
   ]
  },
  {
   "cell_type": "code",
   "execution_count": 44,
   "metadata": {
    "collapsed": false
   },
   "outputs": [
    {
     "data": {
      "text/plain": [
       "0.3652460141692247"
      ]
     },
     "execution_count": 44,
     "metadata": {},
     "output_type": "execute_result"
    }
   ],
   "source": [
    "SpearmanCorr(sample1,sample2)"
   ]
  },
  {
   "cell_type": "code",
   "execution_count": 62,
   "metadata": {
    "collapsed": false
   },
   "outputs": [],
   "source": [
    "class HypothesisTest(object):\n",
    "    def __init__(self, data):\n",
    "        self.data = data\n",
    "        self.MakeModel()\n",
    "        self.actual = self.TestStatistic(data)\n",
    "    def PValue(self, iters=1000):\n",
    "        self.test_stats = [self.TestStatistic(self.RunModel())\n",
    "                           for _ in range(iters)]\n",
    "        count = sum(1 for x in self.test_stats if x >= self.actual)\n",
    "        return count / iters\n",
    "    \n",
    "    def TestStatistic(self, data):\n",
    "        raise UnimplementedMethodException()\n",
    "    def MakeModel(self):\n",
    "        pass\n",
    "    def RunModel(self):\n",
    "        raise UnimplementedMethodException()\n"
   ]
  },
  {
   "cell_type": "code",
   "execution_count": 64,
   "metadata": {
    "collapsed": false
   },
   "outputs": [
    {
     "data": {
      "text/plain": [
       "0.0"
      ]
     },
     "execution_count": 64,
     "metadata": {},
     "output_type": "execute_result"
    }
   ],
   "source": [
    "class DiffMeansPermute(thinkstats2.HypothesisTest):\n",
    "    def TestStatistic(self, data):\n",
    "        group1, group2 = data\n",
    "        test_stat = abs(group1.mean() - group2.mean())\n",
    "        return test_stat\n",
    "\n",
    "    def MakeModel(self):\n",
    "        group1, group2 = self.data\n",
    "        self.n, self.m = len(group1), len(group2)\n",
    "        self.pool = np.hstack((group1, group2))\n",
    "\n",
    "    def RunModel(self):\n",
    "        np.random.shuffle(self.pool)\n",
    "        data = self.pool[:self.n], self.pool[self.n:]\n",
    "        return data\n",
    "\n",
    "    \n",
    "Data= sample1 , sample2\n",
    "HT= DiffMeansPermute(Data)\n",
    "PValue= HT.PValue()\n",
    "PValue"
   ]
  },
  {
   "cell_type": "code",
   "execution_count": 65,
   "metadata": {
    "collapsed": false
   },
   "outputs": [
    {
     "data": {
      "image/png": "[encoded data removed]",
      "text/plain": [
       "<matplotlib.figure.Figure at 0xbccac88>"
      ]
     },
     "metadata": {},
     "output_type": "display_data"
    }
   ],
   "source": [
    "HT.PlotCdf()\n",
    "thinkplot.Config(xlabel='statistic',ylabel='CDF')"
   ]
  },
  {
   "cell_type": "code",
   "execution_count": 69,
   "metadata": {
    "collapsed": true
   },
   "outputs": [],
   "source": [
    "class DiffMeansOneSided(DiffMeansPermute): \n",
    "    def TestStatistic(self,data):\n",
    "        group1, group2 =data\n",
    "        test_stat= group1.mean() - group2.mean()\n",
    "        return test_stat\n"
   ]
  },
  {
   "cell_type": "code",
   "execution_count": 75,
   "metadata": {
    "collapsed": false
   },
   "outputs": [
    {
     "data": {
      "image/png": "[encoded data removed]",
      "text/plain": [
       "<matplotlib.figure.Figure at 0xbcca8d0>"
      ]
     },
     "metadata": {},
     "output_type": "display_data"
    }
   ],
   "source": [
    "\n",
    "Ht= DiffMeansOneSided(Data)\n",
    "Pvalue = Ht.PValue()\n",
    "Pvalue\n",
    "Ht.PlotCdf()\n",
    "thinkplot.Config(xlabel='second test',ylabel='CDF')"
   ]
  },
  {
   "cell_type": "code",
   "execution_count": 76,
   "metadata": {
    "collapsed": true
   },
   "outputs": [],
   "source": [
    "class DiffStdPermute(DiffMeansPermute):\n",
    "    def TestStatistic(self,data):\n",
    "        group1, group2 =data\n",
    "        test_stat= group1.std() - group2.std()\n",
    "        return test_stat\n"
   ]
  },
  {
   "cell_type": "code",
   "execution_count": 79,
   "metadata": {
    "collapsed": false
   },
   "outputs": [
    {
     "data": {
      "image/png": "[encoded data removed]",
      "text/plain": [
       "<matplotlib.figure.Figure at 0xbb3ec50>"
      ]
     },
     "metadata": {},
     "output_type": "display_data"
    }
   ],
   "source": [
    "ht= DiffStdPermute(Data)\n",
    "Pvalue = ht.PValue()\n",
    "Pvalue\n",
    "ht.PlotCdf()\n",
    "thinkplot.Config(xlabel='third test',ylabel='CDF')"
   ]
  },
  {
   "cell_type": "code",
   "execution_count": null,
   "metadata": {
    "collapsed": true
   },
   "outputs": [],
   "source": []
  }
 ],
 "metadata": {
  "kernelspec": {
   "display_name": "Python 2",
   "language": "python",
   "name": "python2"
  },
  "language_info": {
   "codemirror_mode": {
    "name": "ipython",
    "version": 2
   },
   "file_extension": ".py",
   "mimetype": "text/x-python",
   "name": "python",
   "nbconvert_exporter": "python",
   "pygments_lexer": "ipython2",
   "version": "2.7.13"
  }
 },
 "nbformat": 4,
 "nbformat_minor": 2
}
